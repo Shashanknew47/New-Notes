{
 "cells": [
  {
   "cell_type": "code",
   "execution_count": 1,
   "metadata": {},
   "outputs": [
    {
     "name": "stdout",
     "output_type": "stream",
     "text": [
      "1990-01-10 23:30:00\n",
      "January 10 1990\n",
      "1990-01-10T23:30:00\n"
     ]
    }
   ],
   "source": [
    "import datetime\n",
    "\n",
    "d = datetime.datetime(1990,1,10,23,30)\n",
    "print(d)\n",
    "print(d.strftime('%B %d %Y'))\n",
    "print(d.isoformat())\n"
   ]
  },
  {
   "cell_type": "code",
   "execution_count": 2,
   "metadata": {},
   "outputs": [
    {
     "name": "stdout",
     "output_type": "stream",
     "text": [
      "2010-12-25 00:00:00\n"
     ]
    }
   ],
   "source": [
    "a =  datetime.datetime.strptime('December 25, 2010','%B %d, %Y')\n",
    "print(a)"
   ]
  },
  {
   "cell_type": "code",
   "execution_count": 3,
   "metadata": {},
   "outputs": [
    {
     "name": "stdout",
     "output_type": "stream",
     "text": [
      "2021-10-15 20:41:42.269484\n",
      "2021-10-15 15:11:42.269484+00:00\n",
      "=======================================\n",
      "2021-10-15 15:11:42.270471+00:00\n",
      "===========dt_mtn================\n",
      "2021-10-15 09:11:42.270471-06:00\n",
      "===========au_syd================\n",
      "2021-10-16 02:11:42.270471+11:00\n",
      "2021-10-16 02:11:42.270471+11:00\n"
     ]
    }
   ],
   "source": [
    "import pytz\n",
    "import datetime\n",
    "\n",
    "print(datetime.datetime.now())\n",
    "print(datetime.datetime.utcnow().replace(tzinfo=pytz.UTC))\n",
    "\n",
    "print('=======================================')\n",
    "utc_time = (datetime.datetime.now(tz=pytz.UTC))\n",
    "print((utc_time))\n",
    "\n",
    "print('===========dt_mtn================')\n",
    "dt_mtn = utc_time.astimezone(\n",
    "    pytz.timezone('US/Mountain')\n",
    ")\n",
    "print(dt_mtn)\n",
    "\n",
    "\n",
    "print('===========au_syd================')\n",
    "au_syd = dt_mtn.astimezone(\n",
    "    pytz.timezone('Australia/Sydney')\n",
    ")\n",
    "print(au_syd)\n",
    "\n",
    "au_sydn = utc_time.astimezone(\n",
    "    pytz.timezone('Australia/Sydney')\n",
    ")\n",
    "print(au_sydn)"
   ]
  }
 ],
 "metadata": {
  "interpreter": {
   "hash": "dea6d25d6f8dc36c987e06b7c775d272c4cf7e72ceda22d65902e3211296ca71"
  },
  "kernelspec": {
   "display_name": "Python 3.10.0 64-bit",
   "name": "python3"
  },
  "language_info": {
   "codemirror_mode": {
    "name": "ipython",
    "version": 3
   },
   "file_extension": ".py",
   "mimetype": "text/x-python",
   "name": "python",
   "nbconvert_exporter": "python",
   "pygments_lexer": "ipython3",
   "version": "3.10.0"
  },
  "orig_nbformat": 2
 },
 "nbformat": 4,
 "nbformat_minor": 2
}

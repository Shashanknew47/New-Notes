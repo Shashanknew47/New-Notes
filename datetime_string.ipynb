{
 "metadata": {
  "language_info": {
   "codemirror_mode": {
    "name": "ipython",
    "version": 3
   },
   "file_extension": ".py",
   "mimetype": "text/x-python",
   "name": "python",
   "nbconvert_exporter": "python",
   "pygments_lexer": "ipython3",
   "version": "3.9.1-final"
  },
  "orig_nbformat": 2,
  "kernelspec": {
   "name": "python3",
   "display_name": "Python 3.9.1 64-bit",
   "metadata": {
    "interpreter": {
     "hash": "53a48d540490c1342b6131282b8ad4cfe0e9dc3e24c6f4b148938ffb48df8e93"
    }
   }
  }
 },
 "nbformat": 4,
 "nbformat_minor": 2,
 "cells": [
  {
   "cell_type": "code",
   "execution_count": 3,
   "metadata": {},
   "outputs": [
    {
     "output_type": "stream",
     "name": "stdout",
     "text": [
      "1990-01-10 23:30:00\nJanuary 10 1990\n1990-01-10T23:30:00\n"
     ]
    }
   ],
   "source": [
    "import datetime\n",
    "\n",
    "d = datetime.datetime(1990,1,10,23,30)\n",
    "print(d)\n",
    "print(d.strftime('%B %d %Y'))\n",
    "print(d.isoformat())\n"
   ]
  },
  {
   "cell_type": "code",
   "execution_count": 12,
   "metadata": {},
   "outputs": [
    {
     "output_type": "stream",
     "name": "stdout",
     "text": [
      "2010-12-25 00:00:00\n"
     ]
    }
   ],
   "source": [
    "a =  datetime.datetime.strptime('December 25, 2010','%B %d, %Y')\n",
    "print(a)"
   ]
  },
  {
   "cell_type": "code",
   "execution_count": null,
   "metadata": {},
   "outputs": [],
   "source": [
    "import pytz\n",
    "import datetime\n",
    "\n",
    "print(datetime.datetime.now())\n",
    "print(datetime.datetime.utcnow().replace(tzinfo=pytz.UTC))\n",
    "\n",
    "print('=======================================')\n",
    "utc_time = (datetime.datetime.now(tz=pytz.UTC))\n",
    "print((utc_time))\n",
    "\n",
    "print('===========dt_mtn================')\n",
    "dt_mtn = utc_time.astimezone(\n",
    "    pytz.timezone('US/Mountain')\n",
    ")\n",
    "print(dt_mtn)\n",
    "\n",
    "\n",
    "print('===========au_syd================')\n",
    "au_syd = dt_mtn.astimezone(\n",
    "    pytz.timezone('Australia/Sydney')\n",
    ")\n",
    "print(au_syd)\n",
    "\n",
    "au_sydn = utc_time.astimezone(\n",
    "    pytz.timezone('Australia/Sydney')\n",
    ")\n",
    "print(au_sydn)"
   ]
  }
 ]
}
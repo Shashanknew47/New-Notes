{
 "cells": [
  {
   "cell_type": "code",
   "execution_count": 22,
   "metadata": {},
   "outputs": [
    {
     "name": "stdout",
     "output_type": "stream",
     "text": [
      "1 MAXYEAR; 2 MINYEAR; 3 date; 4 datetime; 5 datetime_CAPI; 6 sys; 7 time; 8 timedelta; 9 timezone; 10 tzinfo; "
     ]
    }
   ],
   "source": [
    "import datetime   # Here datetime is a module\n",
    "\n",
    "j = 1\n",
    "for i in dir(datetime):\n",
    "    if not i.startswith('__'):\n",
    "        print(j,i,end='; ')\n",
    "        j+=1\n",
    "\n",
    "\"\"\"\n",
    "Here MAXYEAR and MINYEAR are constants and date,datetime,time,timedelta,timezone,tzinfo are classes.\n",
    "\"\"\"\n",
    "None"
   ]
  },
  {
   "cell_type": "code",
   "execution_count": 23,
   "metadata": {},
   "outputs": [
    {
     "name": "stdout",
     "output_type": "stream",
     "text": [
      "9999\n",
      "1\n"
     ]
    }
   ],
   "source": [
    "\"\"\" year limit of dateime module  is in between MINYEAR and MAXYEAR.which are contants.\n",
    "\"\"\"\n",
    "print(datetime.MAXYEAR)\n",
    "print(datetime.MINYEAR)"
   ]
  },
  {
   "cell_type": "code",
   "execution_count": 24,
   "metadata": {},
   "outputs": [
    {
     "name": "stdout",
     "output_type": "stream",
     "text": [
      "1 : astimezone; 2 : combine; 3 : ctime; 4 : date; 5 : day; 6 : dst; 7 : fold; 8 : fromisocalendar; 9 : fromisoformat; 10 : fromordinal; 11 : fromtimestamp; 12 : hour; 13 : isocalendar; 14 : isoformat; 15 : isoweekday; 16 : max; 17 : microsecond; 18 : min; 19 : minute; 20 : month; 21 : now; 22 : replace; 23 : resolution; 24 : second; 25 : strftime; 26 : strptime; 27 : time; 28 : timestamp; 29 : timetuple; 30 : timetz; 31 : today; 32 : toordinal; 33 : tzinfo; 34 : tzname; 35 : utcfromtimestamp; 36 : utcnow; 37 : utcoffset; 38 : utctimetuple; 39 : weekday; 40 : year; "
     ]
    }
   ],
   "source": [
    "\"\"\"\n",
    "class datetime.datetime(year, month, day, hour=0, minute=0, second=0, microsecond=0, tzinfo=None, *, fold=0)\n",
    "\n",
    "    The year, month and day arguments are required. tzinfo may be None, or an instance of a tzinfo subclass. The remaining arguments must be integers in the following ranges:\n",
    "\n",
    "        MINYEAR <= year <= MAXYEAR,\n",
    "        1 <= month <= 12,\n",
    "        1 <= day <= number of days in the given month and year,\n",
    "        0 <= hour < 24,\n",
    "        0 <= minute < 60,\n",
    "        0 <= second < 60,\n",
    "        0 <= microsecond < 1_000_000,\n",
    "        fold in [0, 1].\n",
    "\n",
    "\n",
    "datetime.tzinfo\n",
    "\n",
    "    The object passed as the tzinfo argument to the datetime constructor, or None if none was passed.\n",
    "\n",
    "datetime.fold\n",
    "\n",
    "    In [0, 1]. Used to disambiguate wall times during a repeated interval. (A repeated interval occurs when clocks are rolled back at the end of daylight saving time or when the UTC offset for the current zone is decreased for political reasons.) The value 0 (1) represents the earlier (later) of the two moments with the same wall time representation.\n",
    "\n",
    "    New in version 3.6.\n",
    "\n",
    "\n",
    "\"\"\"\n",
    "j = 1\n",
    "for i in dir(datetime.datetime):\n",
    "    if not i.startswith('__'):\n",
    "        print(j,':',i,end='; ')\n",
    "        j+=1\n"
   ]
  },
  {
   "cell_type": "code",
   "execution_count": 25,
   "metadata": {},
   "outputs": [
    {
     "name": "stdout",
     "output_type": "stream",
     "text": [
      "Y = 2018-03-12 23:34:11.000033\n",
      "\n",
      "Y day is *** Monday*** and date is  **12th March, 2018**.\n",
      "\n",
      "2018-03-12 23:34:11.000033\n",
      "\n",
      "Y.year = 2018;  Y.month = 3\n",
      "Y.day = 12\n",
      "23 hour\n",
      "34 minut\n",
      "11  second\n",
      "33 microseconds\n",
      "0 fold\n",
      "None tzinfo \n",
      "\n",
      "0 : weekday\n",
      "1 : isoweekday\n"
     ]
    }
   ],
   "source": [
    "\"\"\"\n",
    "Properties of datetime : \n",
    "1)date   2)day   3)hour  4)isoweekday  5)microsecond 6)minute  7)second   8)weekday 9)year 10)fold 11)tzinfo \n",
    "\"\"\"\n",
    "Y = datetime.datetime(2018,3,12,23,34,11,33);    print('Y =',Y,end='\\n\\n')\n",
    "\n",
    "sentence =  'Y day is *** {0:%A}*** and date is  **{0:%dth %B, %Y}**.\\n'.format(Y)\n",
    "print(sentence)\n",
    "\n",
    "print(Y,end='\\n\\n'); \n",
    "\n",
    "print(f'{Y.year = }',end = ';  ') ; print(f'{Y.month = }') ; print(f'{Y.day = }')\n",
    "print(Y.hour,'hour'); print(Y.minute,'minut');    print(Y.second,' second')\n",
    "print(Y.microsecond, 'microseconds')\n",
    "print(Y.fold,'fold')      # By default it's 0\n",
    "print(Y.tzinfo,'tzinfo \\n')  # By default it's NOne\n",
    "\n",
    "print(Y.weekday(),': weekday')      #weekday function wil start Monday counting as 0. So, Monday = 0, Tuesday=1,...Sunday=6.\n",
    "print(Y.isoweekday(), ': isoweekday')   #isoweekday function wil start Monday counting as 1.So, Monday = 1, Tuesday=2 ...Sunday=7."
   ]
  },
  {
   "cell_type": "markdown",
   "metadata": {},
   "source": [
    "## Important functions of datetime.datetime"
   ]
  },
  {
   "cell_type": "code",
   "execution_count": 26,
   "metadata": {},
   "outputs": [
    {
     "name": "stdout",
     "output_type": "stream",
     "text": [
      "today: 2021-10-30 19:48:30.005918\n",
      "now: 2021-10-30 19:48:30.006960\n",
      "utcnow: 2021-10-30 14:18:30.006960\n",
      "=========================================================================\n",
      "2021-10-30\n",
      "19:48:30.006960\n",
      "2021-10-30 19:48:30.006960\n"
     ]
    }
   ],
   "source": [
    "print('today:',datetime.datetime.today())\n",
    "print('now:',datetime.datetime.now())\n",
    "print('utcnow:',datetime.datetime.utcnow())\n",
    "\n",
    "\n",
    "print('=========================================================================')\n",
    "\n",
    "\"datetime.combine() function combines the instances of datetime.date and datetime.time\"\n",
    "\n",
    "current_date = datetime.date.today();   print(current_date)\n",
    "now = datetime.datetime.today()\n",
    "curr_time = datetime.time(now.hour,now.minute,now.second,now.microsecond)\n",
    "print(curr_time)\n",
    "\n",
    "combine_time = datetime.datetime.combine(current_date,curr_time)\n",
    "print(combine_time)"
   ]
  },
  {
   "cell_type": "markdown",
   "metadata": {},
   "source": [
    "## Using string to create datetime instances"
   ]
  },
  {
   "cell_type": "code",
   "execution_count": 27,
   "metadata": {},
   "outputs": [
    {
     "name": "stdout",
     "output_type": "stream",
     "text": [
      "2031-03-01 00:00:00\n"
     ]
    }
   ],
   "source": [
    "ISO_8601format = '2031-03-01'\n",
    "a = datetime.datetime.fromisoformat(ISO_8601format)\n",
    "print(a)"
   ]
  },
  {
   "cell_type": "code",
   "execution_count": 28,
   "metadata": {},
   "outputs": [
    {
     "name": "stdout",
     "output_type": "stream",
     "text": [
      "2020-01-31 14:45:37\n"
     ]
    }
   ],
   "source": [
    "# To convert date with time into datetime instance we need to use strp methodd :\n",
    "date_string = '01-31-2020 14:45:37'\n",
    "format_string = '%m-%d-%Y %H:%M:%S'\n",
    "\n",
    "a = datetime.datetime.strptime(date_string,format_string)\n",
    "print(a)"
   ]
  },
  {
   "cell_type": "code",
   "execution_count": 29,
   "metadata": {},
   "outputs": [
    {
     "data": {
      "text/plain": [
       "'01-31-2020 14:45:37'"
      ]
     },
     "execution_count": 29,
     "metadata": {},
     "output_type": "execute_result"
    }
   ],
   "source": [
    "dt_str = datetime.datetime.strftime(a,format_string)\n",
    "dt_str"
   ]
  },
  {
   "cell_type": "code",
   "execution_count": 46,
   "metadata": {},
   "outputs": [
    {
     "name": "stdout",
     "output_type": "stream",
     "text": [
      "0.0\n"
     ]
    }
   ],
   "source": [
    "a.timestamp()\n",
    "dt = datetime.datetime(1970,1,1,tzinfo=datetime.timezone.utc)\n",
    "\n",
    "print(dt.timestamp())"
   ]
  },
  {
   "cell_type": "code",
   "execution_count": 49,
   "metadata": {},
   "outputs": [
    {
     "data": {
      "text/plain": [
       "datetime.datetime(1970, 1, 1, 0, 0)"
      ]
     },
     "execution_count": 49,
     "metadata": {},
     "output_type": "execute_result"
    }
   ],
   "source": [
    "from datetime import datetime\n",
    "\n",
    "dt = datetime.utcfromtimestamp(0)"
   ]
  },
  {
   "cell_type": "code",
   "execution_count": 57,
   "metadata": {},
   "outputs": [
    {
     "data": {
      "text/plain": [
       "time.struct_time(tm_year=1970, tm_mon=1, tm_mday=1, tm_hour=0, tm_min=0, tm_sec=0, tm_wday=3, tm_yday=1, tm_isdst=-1)"
      ]
     },
     "execution_count": 57,
     "metadata": {},
     "output_type": "execute_result"
    }
   ],
   "source": [
    "import time\n",
    "dt.timetuple()"
   ]
  },
  {
   "cell_type": "code",
   "execution_count": 59,
   "metadata": {},
   "outputs": [
    {
     "data": {
      "text/plain": [
       "time.struct_time(tm_year=1970, tm_mon=1, tm_mday=1, tm_hour=0, tm_min=0, tm_sec=0, tm_wday=3, tm_yday=1, tm_isdst=0)"
      ]
     },
     "execution_count": 59,
     "metadata": {},
     "output_type": "execute_result"
    }
   ],
   "source": [
    "dt.utctimetuple()"
   ]
  },
  {
   "cell_type": "code",
   "execution_count": 71,
   "metadata": {},
   "outputs": [
    {
     "name": "stdout",
     "output_type": "stream",
     "text": [
      "1988-11-01 12:02:02-07:00\n",
      "time.struct_time(tm_year=1988, tm_mon=11, tm_mday=1, tm_hour=12, tm_min=2, tm_sec=2, tm_wday=1, tm_yday=306, tm_isdst=0)\n",
      "None\n"
     ]
    }
   ],
   "source": [
    "import dateutil\n",
    "import datetime\n",
    "\n",
    "Us_mountain = datetime.datetime(1988,11,1,12,2,2,tzinfo=dateutil.tz.gettz('US/Mountain'))\n",
    "print(Us_mountain)\n",
    "t = Us_mountain.timetuple()\n",
    "print(t)\n"
   ]
  },
  {
   "cell_type": "code",
   "execution_count": null,
   "metadata": {},
   "outputs": [],
   "source": [
    "## Working With Time Zones\n",
    "\n",
    "\"\"\"\n",
    "Python datetime provides tzinfo,which is an abstract class that allows datetime.datetime or datetime.time to include time zone information, including an daylight saving time.\n",
    "\n",
    "    However,datetime does not provide a direct way to interact with IANA time zone\n",
    "database.The python datetime tzinfo documentation recommends using third-pary \n",
    "package called dateutil. \n",
    "\"\"\"\n",
    "None"
   ]
  },
  {
   "cell_type": "code",
   "execution_count": null,
   "metadata": {},
   "outputs": [
    {
     "name": "stdout",
     "output_type": "stream",
     "text": [
      "Help on built-in function now:\n",
      "\n",
      "now(tz=None) method of builtins.type instance\n",
      "    Returns new datetime object representing current time local to tz.\n",
      "    \n",
      "      tz\n",
      "        Timezone object.\n",
      "    \n",
      "    If no tz is specified, uses local timezone.\n",
      "\n",
      "=========================\n",
      "datetime_now : 2021-10-30 19:45:11.783361\n",
      "datetimeNow_with_tz : 2021-10-30 19:45:11.783361+05:30\n",
      "2020-01-02 02:23:02.000434+05:30\n"
     ]
    }
   ],
   "source": [
    "import dateutil\n",
    "import datetime\n",
    "\n",
    "help(datetime.datetime.now)\n",
    "print('=========================')\n",
    "\n",
    "print('datetime_now :',datetime.datetime.now())\n",
    "now = datetime.datetime.now(tz=dateutil.tz.tzlocal())\n",
    "td = datetime.timedelta(days=1)\n",
    "random_datewithtz = datetime.datetime(2020,1,2,2,23,2,434,tzinfo=dateutil.tz.tzlocal())\n",
    "\n",
    "print('datetimeNow_with_tz :',now)\n",
    "print(random_datewithtz)\n",
    "\n",
    "# dateutil.tz.local() returns a concrete instance of datetime.tzinfo which means it can represent all \n",
    "# necessary timezone offset and daylight saving time information. \n"
   ]
  },
  {
   "cell_type": "code",
   "execution_count": null,
   "metadata": {},
   "outputs": [
    {
     "name": "stdout",
     "output_type": "stream",
     "text": [
      "2020-01-23 04:02:01.000034+00:00\n"
     ]
    },
    {
     "data": {
      "text/plain": [
       "'GMT'"
      ]
     },
     "execution_count": 12,
     "metadata": {},
     "output_type": "execute_result"
    }
   ],
   "source": [
    "a = (datetime.datetime(2020,1,23,4,2,1,34,tzinfo=dateutil.tz.gettz('Europe/London')))\n",
    "print(a)\n",
    "a.tzname()"
   ]
  },
  {
   "cell_type": "code",
   "execution_count": null,
   "metadata": {},
   "outputs": [
    {
     "name": "stdout",
     "output_type": "stream",
     "text": [
      "2020-01-23 04:02:01.000034+00:00\n"
     ]
    }
   ],
   "source": [
    "a = (datetime.datetime(2020,1,23,4,2,1,34,tzinfo=dateutil.tz.gettz('UTC')))\n",
    "print(a)\n"
   ]
  }
 ],
 "metadata": {
  "interpreter": {
   "hash": "dea6d25d6f8dc36c987e06b7c775d272c4cf7e72ceda22d65902e3211296ca71"
  },
  "kernelspec": {
   "display_name": "Python 3.10.0 64-bit",
   "name": "python3"
  },
  "language_info": {
   "codemirror_mode": {
    "name": "ipython",
    "version": 3
   },
   "file_extension": ".py",
   "mimetype": "text/x-python",
   "name": "python",
   "nbconvert_exporter": "python",
   "pygments_lexer": "ipython3",
   "version": "3.10.0"
  },
  "orig_nbformat": 2
 },
 "nbformat": 4,
 "nbformat_minor": 2
}

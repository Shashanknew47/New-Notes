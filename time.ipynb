{
 "metadata": {
  "language_info": {
   "codemirror_mode": {
    "name": "ipython",
    "version": 3
   },
   "file_extension": ".py",
   "mimetype": "text/x-python",
   "name": "python",
   "nbconvert_exporter": "python",
   "pygments_lexer": "ipython3",
   "version": "3.9.1-final"
  },
  "orig_nbformat": 2,
  "kernelspec": {
   "name": "python3",
   "display_name": "Python 3.9.1 64-bit",
   "metadata": {
    "interpreter": {
     "hash": "53a48d540490c1342b6131282b8ad4cfe0e9dc3e24c6f4b148938ffb48df8e93"
    }
   }
  }
 },
 "nbformat": 4,
 "nbformat_minor": 2,
 "cells": [
  {
   "cell_type": "code",
   "execution_count": 19,
   "metadata": {},
   "outputs": [
    {
     "output_type": "stream",
     "name": "stdout",
     "text": [
      "<module 'time' (built-in)>\n1 _STRUCT_TM_ITEMS\n2 altzone\n3 asctime\n4 ctime\n5 daylight\n6 get_clock_info\n7 gmtime\n8 localtime\n9 mktime\n10 monotonic\n11 monotonic_ns\n12 perf_counter\n13 perf_counter_ns\n14 process_time\n15 process_time_ns\n16 sleep\n17 strftime\n18 strptime\n19 struct_time\n20 thread_time\n21 thread_time_ns\n22 time\n23 time_ns\n24 timezone\n25 tzname\n"
     ]
    }
   ],
   "source": [
    "import time\n",
    "print(time)\n",
    "\n",
    "j = 1\n",
    "\n",
    "for i in dir(time):\n",
    "    if not i.startswith('__'):\n",
    "        print(j,i)\n",
    "        j +=1"
   ]
  },
  {
   "cell_type": "code",
   "execution_count": 20,
   "metadata": {},
   "outputs": [
    {
     "output_type": "stream",
     "name": "stdout",
     "text": [
      "time.time(): 1613477380.361266 (returns current time in seconds from epoch)\ntime.time_ns(): 1613477380362266700 (returns current time in nano seconds from epoch)\n\n\n"
     ]
    },
    {
     "output_type": "execute_result",
     "data": {
      "text/plain": [
       "51.16303210182851"
      ]
     },
     "metadata": {},
     "execution_count": 20
    }
   ],
   "source": [
    "print('time.time():',time.time(),'(returns current time in seconds from epoch)')\n",
    "print('time.time_ns():',time.time_ns(),'(returns current time in nano seconds from epoch)');print('\\n')\n",
    "\n",
    "yearFromEpoch = time.time()/(60*60*24*365)\n",
    "yearFromEpoch\n",
    "\n",
    "\n",
    "#Note: time,time_ns,ctime will return time in floating points. \n"
   ]
  },
  {
   "source": [
    "## ctime and timestamp\n",
    "\n",
    "   ctime converts local time or seconds given in argument into a string(this string is called timestamp) which contains time info from epoch."
   ],
   "cell_type": "markdown",
   "metadata": {}
  },
  {
   "cell_type": "code",
   "execution_count": 21,
   "metadata": {},
   "outputs": [
    {
     "output_type": "stream",
     "name": "stdout",
     "text": [
      "ctime return current time in iso format if no parameter is passed. if a paramer is passed then it will show as distance from epoch time:\ntime.ctime():   Tue Feb 16 17:39:40 2021\n======convering local time and seconds into date and time with ctime=============\nTue Feb 16 17:39:40 2021\nSun May 24 02:29:05 1970\n"
     ]
    }
   ],
   "source": [
    "print('ctime return current time in iso format if no parameter is passed. if a paramer is passed then it will show as distance from epoch time:')\n",
    "print('time.ctime():  ',time.ctime())\n",
    "\n",
    "print('======convering local time and seconds into date and time with ctime=============')\n",
    "print(time.ctime(time.time()))\n",
    "print(time.ctime(12344345.3553))\n"
   ]
  },
  {
   "source": [
    "## Python time as tuple and struct_time"
   ],
   "cell_type": "markdown",
   "metadata": {}
  },
  {
   "cell_type": "code",
   "execution_count": 22,
   "metadata": {},
   "outputs": [
    {
     "output_type": "stream",
     "name": "stdout",
     "text": [
      "1613477380.7142632\n",
      "Tue Feb 16 17:39:40 2021\n",
      "time.struct_time(tm_year=2021, tm_mon=2, tm_mday=14, tm_hour=9, tm_min=46, tm_sec=49, tm_wday=6, tm_yday=45, tm_isdst=0)\n"
     ]
    }
   ],
   "source": [
    "t = time.time()\n",
    "print(t)\n",
    "\n",
    "print(time.ctime(t))\n",
    "\n",
    "time_tuple = (2021,2,14,9,46,49,6,45,0)\n",
    "\n",
    "time_obj = time.struct_time(time_tuple)\n",
    "print(time_obj)\n",
    "\n",
    "day_of_week = time_obj.tm_wday\n",
    "day_of_year = time_obj.tm_yday\n",
    "\n"
   ]
  },
  {
   "source": [
    "### There are 2 ways to convert float representing seconds to a struct time :\n",
    "      \n",
    "      1) To convert python time float to a UTC-based struct_time, the Python time    \n",
    "         module provides a function called gmtime().\n",
    "\n",
    "      2) localtime()\n",
    "\n"
   ],
   "cell_type": "markdown",
   "metadata": {}
  },
  {
   "cell_type": "code",
   "execution_count": 23,
   "metadata": {},
   "outputs": [
    {
     "output_type": "stream",
     "name": "stdout",
     "text": [
      "time.struct_time(tm_year=2021, tm_mon=2, tm_mday=16, tm_hour=12, tm_min=9, tm_sec=40, tm_wday=1, tm_yday=47, tm_isdst=0)\ntime.struct_time(tm_year=1970, tm_mon=1, tm_mday=1, tm_hour=0, tm_min=0, tm_sec=0, tm_wday=3, tm_yday=1, tm_isdst=0)\n===============================================\ntime.struct_time(tm_year=1970, tm_mon=1, tm_mday=1, tm_hour=0, tm_min=0, tm_sec=1, tm_wday=3, tm_yday=1, tm_isdst=0)\n"
     ]
    },
    {
     "output_type": "execute_result",
     "data": {
      "text/plain": [
       "'Notice that even though the number of seconds you passed was very close to 2, the .99 fractional seconds were simply ignored, as shown by tm_sec=1.'"
      ]
     },
     "metadata": {},
     "execution_count": 23
    }
   ],
   "source": [
    "print(time.gmtime())  # This will give current time\n",
    "print(time.gmtime(0)) # This will give epoch time\n",
    "\n",
    "print('===============================================')\n",
    "print(time.gmtime(1.99))  # This will give distace from epoch time in terms of struct time) \n",
    "\n",
    "\"Notice that even though the number of seconds you passed was very close to 2, the .99 fractional seconds were simply ignored, as shown by tm_sec=1.\"\n"
   ]
  },
  {
   "cell_type": "code",
   "execution_count": 24,
   "metadata": {},
   "outputs": [
    {
     "output_type": "stream",
     "name": "stdout",
     "text": [
      "\n ==========Elements of x (local time) =================\ntime.struct_time(tm_year=2021, tm_mon=2, tm_mday=16, tm_hour=17, tm_min=39, tm_sec=41, tm_wday=1, tm_yday=47, tm_isdst=0)\ntm_year: 2021\ntm_mon: 2\ntm_sec: 41\n"
     ]
    },
    {
     "output_type": "execute_result",
     "data": {
      "text/plain": [
       "'Notice that tm_isdst=0. Since DST matters with local time, tm_isdst will change between 0 and 1 depending on whether or not DST is applicable for the given time. Since tm_isdst=0, DST is not applicable for Feb 14, 2021.'"
      ]
     },
     "metadata": {},
     "execution_count": 24
    }
   ],
   "source": [
    "print(\"\\n ==========Elements of x (local time) =================\")\n",
    "x = time.localtime()\n",
    "print(x)\n",
    "print('tm_year:',x.tm_year)\n",
    "print('tm_mon:',x.tm_mon)\n",
    "print('tm_sec:',x.tm_sec)\n",
    "\n",
    "\n",
    "\"Notice that tm_isdst=0. Since DST matters with local time, tm_isdst will change between 0 and 1 depending on whether or not DST is applicable for the given time. Since tm_isdst=0, DST is not applicable for Feb 14, 2021.\""
   ]
  },
  {
   "cell_type": "code",
   "execution_count": 25,
   "metadata": {},
   "outputs": [
    {
     "output_type": "execute_result",
     "data": {
      "text/plain": [
       "'India Standard Time'"
      ]
     },
     "metadata": {},
     "execution_count": 25
    }
   ],
   "source": [
    "# To check the local timezone\n",
    "time.localtime().tm_zone"
   ]
  },
  {
   "cell_type": "code",
   "execution_count": 26,
   "metadata": {},
   "outputs": [
    {
     "output_type": "stream",
     "name": "stdout",
     "text": [
      "time.struct_time(tm_year=1970, tm_mon=1, tm_mday=1, tm_hour=5, tm_min=30, tm_sec=0, tm_wday=3, tm_yday=1, tm_isdst=0)\ntime.struct_time(tm_year=1970, tm_mon=1, tm_mday=1, tm_hour=0, tm_min=0, tm_sec=0, tm_wday=3, tm_yday=1, tm_isdst=0)\n19800.0\n"
     ]
    },
    {
     "output_type": "execute_result",
     "data": {
      "text/plain": [
       "19800"
      ]
     },
     "metadata": {},
     "execution_count": 26
    }
   ],
   "source": [
    "local_time = time.localtime(0); print(local_time)\n",
    "gmt_time  = time.gmtime(0); print(gmt_time)\n",
    "\n",
    "\"\"\"\n",
    "To check the difference between local time and utc time we use tm_gmoff property.\n",
    "\"\"\"\n",
    "timd_diff = (5*60*60 + .5*60*60)\n",
    "print(timd_diff)\n",
    "\n",
    "\"As we are 5.30 hrs(19800 seconds) ahead from gmt(UTC) time. So, result of tm_gmtoff is 19800\"\n",
    "local_time.tm_gmtoff     # Represend the difference in seconds from utc time. "
   ]
  },
  {
   "source": [
    "## Convertint struct time into seconds : mktime()\n",
    "\n"
   ],
   "cell_type": "markdown",
   "metadata": {}
  },
  {
   "cell_type": "code",
   "execution_count": 27,
   "metadata": {},
   "outputs": [
    {
     "output_type": "stream",
     "name": "stdout",
     "text": [
      "time.struct_time(tm_year=2021, tm_mon=2, tm_mday=16, tm_hour=17, tm_min=39, tm_sec=41, tm_wday=1, tm_yday=47, tm_isdst=0)\n1613477381.0\n================================\ntime.struct_time(tm_year=2021, tm_mon=2, tm_mday=16, tm_hour=12, tm_min=9, tm_sec=41, tm_wday=1, tm_yday=47, tm_isdst=0)\n1613457581.0\n"
     ]
    }
   ],
   "source": [
    "print(time.localtime())\n",
    "a = time.mktime(time.localtime())\n",
    "print(a)\n",
    "print('================================')\n",
    "b = time.gmtime()\n",
    "print(b)\n",
    "print(time.mktime(b))"
   ]
  },
  {
   "source": [
    "## Converting a Python Time Object to a String"
   ],
   "cell_type": "markdown",
   "metadata": {}
  },
  {
   "cell_type": "code",
   "execution_count": 28,
   "metadata": {},
   "outputs": [
    {
     "output_type": "stream",
     "name": "stdout",
     "text": [
      "time.struct_time(tm_year=1970, tm_mon=1, tm_mday=1, tm_hour=0, tm_min=0, tm_sec=0, tm_wday=3, tm_yday=1, tm_isdst=0)\nThu Jan  1 00:00:00 1970\nTue Feb 16 17:39:41 2021\n"
     ]
    }
   ],
   "source": [
    "\"\"\"\n",
    "asctime() converts struct time into a timestamp.\n",
    "\"\"\"\n",
    "b = time.gmtime(0)\n",
    "print(b)\n",
    "print(time.asctime(b))\n",
    "print(time.asctime())  # with out any paramerter asctime will give local time as timestapm."
   ]
  },
  {
   "source": [
    "### time.strftime(format[t])"
   ],
   "cell_type": "markdown",
   "metadata": {}
  },
  {
   "cell_type": "code",
   "execution_count": 29,
   "metadata": {},
   "outputs": [],
   "source": [
    "\"\"\"\n",
    "Convert a tuple or struct_time representing a time as returned by gmtime() or localtime() to a string as specified by the format argument. If t is not provided, the current time as returned by localtime() is used. format must be a string. ValueError is raised if any field in t is outside of the allowed range.\n",
    "\n",
    "0 is a legal argument for any position in the time tuple; if it is normally illegal the value is forced to a correct one.\n",
    "\n",
    "The following directives can be embedded in the format string. They are shown without the optional field width and precision specification, and are replaced by the indicated characters in the strftime() result:\n",
    "\"\"\"\n",
    "None"
   ]
  },
  {
   "source": [
    "![title](format_time.png)"
   ],
   "cell_type": "markdown",
   "metadata": {}
  },
  {
   "cell_type": "code",
   "execution_count": 64,
   "metadata": {},
   "outputs": [
    {
     "output_type": "stream",
     "name": "stdout",
     "text": [
      " Tue Feb 16 12:54:05 2021 : %c format\n 02/16/21 : %x format\n +0530 : %z format\n 2021 : %Y format\n 21 : %Y format\n 12:54:05 : %X format\n Tuesday : %A format\n Tue : %a format\n 12 : %H format\n'2021 02 16 12 54 05 +0530 - India Standard Time'\n"
     ]
    }
   ],
   "source": [
    "print(time.strftime(' %c : %%c format',time.gmtime()))\n",
    "print(time.strftime(' %x : %%x format',time.gmtime()))\n",
    "print(time.strftime(' %z : %%z format',time.gmtime()))\n",
    "print(time.strftime(' %Y : %%Y format',time.gmtime()))\n",
    "print(time.strftime(' %y : %%Y format',time.gmtime()))\n",
    "print(time.strftime(' %X : %%X format',time.gmtime()))\n",
    "print(time.strftime(' %A : %%A format',time.gmtime()))\n",
    "print(time.strftime(' %a : %%a format',time.gmtime()))\n",
    "print(time.strftime(' %H : %%H format',time.gmtime()))\n",
    "\n",
    "print(time.strftime(\"'%Y %m %d %H %M %S %z - %Z'\",time.gmtime()))"
   ]
  },
  {
   "source": [
    "## strptime"
   ],
   "cell_type": "markdown",
   "metadata": {}
  },
  {
   "cell_type": "code",
   "execution_count": 62,
   "metadata": {},
   "outputs": [
    {
     "output_type": "stream",
     "name": "stdout",
     "text": [
      "time.struct_time(tm_year=2019, tm_mon=3, tm_mday=1, tm_hour=0, tm_min=0, tm_sec=0, tm_wday=4, tm_yday=60, tm_isdst=-1)\n==============================================\ntime.struct_time(tm_year=2019, tm_mon=3, tm_mday=1, tm_hour=23, tm_min=38, tm_sec=40, tm_wday=4, tm_yday=60, tm_isdst=-1)\n"
     ]
    }
   ],
   "source": [
    "\"\"\"\n",
    "To convert a time string to a struct_time, you use strptime(), which stands for string parse time:\n",
    "\"\"\"\n",
    "print(time.strptime('2019-03-01', '%Y-%m-%d'))\n",
    "print('==============================================')\n",
    "print(time.strptime(('Fri Mar 01 23:38:40 2019')))\n",
    "\n",
    "\"\"\"\n",
    " tm_isdst=-1  means that strptime() can’t determine by the timestamp whether it represents daylight savings time or not.\n",
    "\"\"\"\n",
    "None"
   ]
  },
  {
   "source": [
    "## Suspending Execution\n",
    "\n",
    "One really useful Python time function is sleep(), which suspends the thread’s execution for a specified amount of time.\n",
    "\n",
    "For example, you can suspend your program’s execution for 10 seconds like this"
   ],
   "cell_type": "markdown",
   "metadata": {}
  },
  {
   "source": [
    "from time import sleep,strftime\n",
    "print(strftime('%c'))\n",
    "time.sleep(10)\n",
    "print(strftime('%c'))\n",
    "\n"
   ],
   "cell_type": "code",
   "metadata": {},
   "execution_count": 67,
   "outputs": [
    {
     "output_type": "stream",
     "name": "stdout",
     "text": [
      "Tue Feb 16 18:27:50 2021\n",
      "Tue Feb 16 18:28:00 2021\n"
     ]
    }
   ]
  },
  {
   "source": [
    "### Measuring Performance"
   ],
   "cell_type": "markdown",
   "metadata": {}
  },
  {
   "cell_type": "code",
   "execution_count": 76,
   "metadata": {},
   "outputs": [
    {
     "output_type": "stream",
     "name": "stdout",
     "text": [
      "4.100000296602957e-06\n87178291200\n"
     ]
    }
   ],
   "source": [
    "from time import perf_counter\n",
    "start = time.perf_counter()\n",
    "\n",
    "def factorial(n):\n",
    "    if n <2:\n",
    "        return 1\n",
    "    else:\n",
    "        return n*factorial(n-1)\n",
    "\n",
    "\n",
    "def timefactorial(n):\n",
    "    start = time.perf_counter()\n",
    "    x = factorial(n)\n",
    "    end = time.perf_counter()\n",
    "    print(end - start)\n",
    "    return x\n",
    "\n",
    "\n",
    "print(timefactorial(14))"
   ]
  }
 ]
}
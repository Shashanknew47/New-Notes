{
 "cells": [
  {
   "cell_type": "code",
   "execution_count": 2,
   "metadata": {},
   "outputs": [
    {
     "name": "stdout",
     "output_type": "stream",
     "text": [
      "<module 'time' (built-in)>\n",
      "1 _STRUCT_TM_ITEMS \t  2 altzone \t  3 asctime \t  4 ctime \t  5 daylight \t  6 get_clock_info \t  7 gmtime \t  8 localtime \t  9 mktime \t  10 monotonic \t  11 monotonic_ns \t  12 perf_counter \t  13 perf_counter_ns \t  14 process_time \t  15 process_time_ns \t  16 sleep \t  17 strftime \t  18 strptime \t  19 struct_time \t  20 thread_time \t  21 thread_time_ns \t  22 time \t  23 time_ns \t  24 timezone \t  25 tzname \t  "
     ]
    }
   ],
   "source": [
    "import time\n",
    "print(time)\n",
    "\n",
    "j = 1\n",
    "\n",
    "for i in dir(time):\n",
    "    if not i.startswith('__'):\n",
    "        print(j,i,end=' \\t  ')\n",
    "        j +=1"
   ]
  },
  {
   "cell_type": "code",
   "execution_count": 3,
   "metadata": {},
   "outputs": [
    {
     "name": "stdout",
     "output_type": "stream",
     "text": [
      "time.time(): 1634827294.2974305 (returns current time in seconds from epoch)\n",
      "time.time_ns(): 1634827294297430500 (returns current time in nano seconds from epoch)\n",
      "\n",
      "\n"
     ]
    },
    {
     "data": {
      "text/plain": [
       "51.84003343155221"
      ]
     },
     "execution_count": 3,
     "metadata": {},
     "output_type": "execute_result"
    }
   ],
   "source": [
    "print('time.time():',time.time(),'(returns current time in seconds from epoch)')\n",
    "print('time.time_ns():',time.time_ns(),'(returns current time in nano seconds from epoch)');print('\\n')\n",
    "\n",
    "yearFromEpoch = time.time()/(60*60*24*365)\n",
    "yearFromEpoch\n",
    "\n",
    "\n",
    "#Note: time,time_ns,ctime will return time in floating points. \n"
   ]
  },
  {
   "cell_type": "markdown",
   "metadata": {},
   "source": [
    "## ctime and timestamp\n",
    "\n",
    "   ctime converts local time or seconds given in argument into a string(this string is called timestamp) which contains time info from epoch."
   ]
  },
  {
   "cell_type": "code",
   "execution_count": 4,
   "metadata": {},
   "outputs": [
    {
     "name": "stdout",
     "output_type": "stream",
     "text": [
      "ctime return current time in iso format if no parameter is passed. if a paramer is passed then it will show as distance from epoch time:\n",
      "time.ctime():   Thu Oct 21 20:11:34 2021\n",
      "======convering local time and seconds into date and time with ctime=============\n",
      "Thu Oct 21 20:11:34 2021\n",
      "Sun May 24 02:29:05 1970\n"
     ]
    }
   ],
   "source": [
    "print('ctime return current time in iso format if no parameter is passed. if a paramer is passed then it will show as distance from epoch time:')\n",
    "print('time.ctime():  ',time.ctime())\n",
    "\n",
    "print('======convering local time and seconds into date and time with ctime=============')\n",
    "print(time.ctime(time.time()))\n",
    "print(time.ctime(12344345.3553))\n"
   ]
  },
  {
   "cell_type": "markdown",
   "metadata": {},
   "source": [
    "## Python time as tuple and struct_time"
   ]
  },
  {
   "cell_type": "code",
   "execution_count": 18,
   "metadata": {},
   "outputs": [
    {
     "name": "stdout",
     "output_type": "stream",
     "text": [
      "1634827338.872875\n",
      "Thu Oct 21 20:12:18 2021\n",
      "time.struct_time(tm_year=2021, tm_mon=2, tm_mday=14, tm_hour=9, tm_min=46, tm_sec=49, tm_wday=6, tm_yday=45, tm_isdst=0)\n",
      "day_of_week = 6\n",
      "45\n",
      "==================================\n"
     ]
    }
   ],
   "source": [
    "t = time.time()\n",
    "print(t)\n",
    "\n",
    "print(time.ctime(t))\n",
    "\n",
    "time_tuple = (2021,2,14,9,46,49,6,45,0)\n",
    "\n",
    "time_obj = time.struct_time(time_tuple)\n",
    "print(time_obj)\n",
    "\n",
    "day_of_week = time_obj.tm_wday\n",
    "day_of_year = time_obj.tm_yday\n",
    "\n",
    "print(f'{day_of_week = }' )\n",
    "print(day_of_year)\n",
    "\n",
    "print('==================================')"
   ]
  },
  {
   "cell_type": "markdown",
   "metadata": {},
   "source": [
    "### There are 2 ways to convert float representing seconds to a struct time :\n",
    "      \n",
    "      1) To convert python time float to a UTC-based struct_time, the Python time    \n",
    "         module provides a function called gmtime().\n",
    "\n",
    "      2) localtime()\n",
    "\n"
   ]
  },
  {
   "cell_type": "code",
   "execution_count": 6,
   "metadata": {},
   "outputs": [
    {
     "name": "stdout",
     "output_type": "stream",
     "text": [
      "time.struct_time(tm_year=2021, tm_mon=10, tm_mday=21, tm_hour=14, tm_min=41, tm_sec=34, tm_wday=3, tm_yday=294, tm_isdst=0)\n",
      "time.struct_time(tm_year=1970, tm_mon=1, tm_mday=1, tm_hour=0, tm_min=0, tm_sec=0, tm_wday=3, tm_yday=1, tm_isdst=0)\n",
      "===============================================\n",
      "time.struct_time(tm_year=1970, tm_mon=1, tm_mday=1, tm_hour=0, tm_min=0, tm_sec=1, tm_wday=3, tm_yday=1, tm_isdst=0)\n"
     ]
    },
    {
     "data": {
      "text/plain": [
       "'Notice that even though the number of seconds you passed was very close to 2, the .99 fractional seconds were simply ignored, as shown by tm_sec=1.'"
      ]
     },
     "execution_count": 6,
     "metadata": {},
     "output_type": "execute_result"
    }
   ],
   "source": [
    "print(time.gmtime())  # This will give current time\n",
    "print(time.gmtime(0)) # This will give epoch time\n",
    "\n",
    "print('===============================================')\n",
    "print(time.gmtime(1.99))  # This will give distace from epoch time in terms of struct time) \n",
    "\n",
    "\"Notice that even though the number of seconds you passed was very close to 2, the .99 fractional seconds were simply ignored, as shown by tm_sec=1.\"\n"
   ]
  },
  {
   "cell_type": "code",
   "execution_count": 7,
   "metadata": {},
   "outputs": [
    {
     "name": "stdout",
     "output_type": "stream",
     "text": [
      "\n",
      " ==========Elements of x (local time) =================\n",
      "time.struct_time(tm_year=2021, tm_mon=10, tm_mday=21, tm_hour=20, tm_min=11, tm_sec=34, tm_wday=3, tm_yday=294, tm_isdst=0)\n",
      "tm_year: 2021\n",
      "tm_mon: 10\n",
      "tm_sec: 34\n"
     ]
    },
    {
     "data": {
      "text/plain": [
       "'Notice that tm_isdst=0. Since DST matters with local time, tm_isdst will change between 0 and 1 depending on whether or not DST is applicable for the given time. Since tm_isdst=0, DST is not applicable for Feb 14, 2021.'"
      ]
     },
     "execution_count": 7,
     "metadata": {},
     "output_type": "execute_result"
    }
   ],
   "source": [
    "print(\"\\n ==========Elements of x (local time) =================\")\n",
    "x = time.localtime()\n",
    "print(x)\n",
    "print('tm_year:',x.tm_year)\n",
    "print('tm_mon:',x.tm_mon)\n",
    "print('tm_sec:',x.tm_sec)\n",
    "\n",
    "\n",
    "\"Notice that tm_isdst=0. Since DST matters with local time, tm_isdst will change between 0 and 1 depending on whether or not DST is applicable for the given time. Since tm_isdst=0, DST is not applicable for Feb 14, 2021.\""
   ]
  },
  {
   "cell_type": "code",
   "execution_count": 8,
   "metadata": {},
   "outputs": [
    {
     "data": {
      "text/plain": [
       "'India Standard Time'"
      ]
     },
     "execution_count": 8,
     "metadata": {},
     "output_type": "execute_result"
    }
   ],
   "source": [
    "# To check the local timezone\n",
    "time.localtime().tm_zone"
   ]
  },
  {
   "cell_type": "code",
   "execution_count": 9,
   "metadata": {},
   "outputs": [
    {
     "name": "stdout",
     "output_type": "stream",
     "text": [
      "time.struct_time(tm_year=1970, tm_mon=1, tm_mday=1, tm_hour=5, tm_min=30, tm_sec=0, tm_wday=3, tm_yday=1, tm_isdst=0)\n",
      "time.struct_time(tm_year=1970, tm_mon=1, tm_mday=1, tm_hour=0, tm_min=0, tm_sec=0, tm_wday=3, tm_yday=1, tm_isdst=0)\n",
      "19800.0\n"
     ]
    },
    {
     "data": {
      "text/plain": [
       "19800"
      ]
     },
     "execution_count": 9,
     "metadata": {},
     "output_type": "execute_result"
    }
   ],
   "source": [
    "local_time = time.localtime(0); print(local_time)\n",
    "gmt_time  = time.gmtime(0); print(gmt_time)\n",
    "\n",
    "\"\"\"\n",
    "To check the difference between local time and utc time we use tm_gmoff property.\n",
    "\"\"\"\n",
    "timd_diff = (5*60*60 + .5*60*60)\n",
    "print(timd_diff)\n",
    "\n",
    "\"As we are 5.30 hrs(19800 seconds) ahead from gmt(UTC) time. So, result of tm_gmtoff is 19800\"\n",
    "local_time.tm_gmtoff     # Represend the difference in seconds from utc time. "
   ]
  },
  {
   "cell_type": "markdown",
   "metadata": {},
   "source": [
    "## Convertint struct time into seconds : mktime()\n",
    "\n"
   ]
  },
  {
   "cell_type": "code",
   "execution_count": 10,
   "metadata": {},
   "outputs": [
    {
     "name": "stdout",
     "output_type": "stream",
     "text": [
      "time.struct_time(tm_year=2021, tm_mon=10, tm_mday=21, tm_hour=20, tm_min=11, tm_sec=35, tm_wday=3, tm_yday=294, tm_isdst=0)\n",
      "1634827295.0\n",
      "================================\n",
      "time.struct_time(tm_year=2021, tm_mon=10, tm_mday=21, tm_hour=14, tm_min=41, tm_sec=35, tm_wday=3, tm_yday=294, tm_isdst=0)\n",
      "1634807495.0\n"
     ]
    }
   ],
   "source": [
    "print(time.localtime())\n",
    "a = time.mktime(time.localtime())\n",
    "print(a)\n",
    "print('================================')\n",
    "b = time.gmtime()\n",
    "print(b)\n",
    "print(time.mktime(b))"
   ]
  },
  {
   "cell_type": "markdown",
   "metadata": {},
   "source": [
    "## Converting a Python Time Object to a String"
   ]
  },
  {
   "cell_type": "code",
   "execution_count": 11,
   "metadata": {},
   "outputs": [
    {
     "name": "stdout",
     "output_type": "stream",
     "text": [
      "time.struct_time(tm_year=1970, tm_mon=1, tm_mday=1, tm_hour=0, tm_min=0, tm_sec=0, tm_wday=3, tm_yday=1, tm_isdst=0)\n",
      "Thu Jan  1 00:00:00 1970\n",
      "Thu Oct 21 20:11:35 2021\n"
     ]
    }
   ],
   "source": [
    "\"\"\"\n",
    "asctime() converts struct time into a timestamp.\n",
    "\"\"\"\n",
    "b = time.gmtime(0)\n",
    "print(b)\n",
    "print(time.asctime(b))\n",
    "print(time.asctime())  # with out any paramerter asctime will give local time as timestapm."
   ]
  },
  {
   "cell_type": "markdown",
   "metadata": {},
   "source": [
    "### time.strftime(format[t])"
   ]
  },
  {
   "cell_type": "code",
   "execution_count": 12,
   "metadata": {},
   "outputs": [],
   "source": [
    "\"\"\"\n",
    "Convert a tuple or struct_time representing a time as returned by gmtime() or localtime() to a string as specified by the format argument. If t is not provided, the current time as returned by localtime() is used. format must be a string. ValueError is raised if any field in t is outside of the allowed range.\n",
    "\n",
    "0 is a legal argument for any position in the time tuple; if it is normally illegal the value is forced to a correct one.\n",
    "\n",
    "The following directives can be embedded in the format string. They are shown without the optional field width and precision specification, and are replaced by the indicated characters in the strftime() result:\n",
    "\"\"\"\n",
    "None"
   ]
  },
  {
   "cell_type": "markdown",
   "metadata": {},
   "source": [
    "![title](format_time.png)"
   ]
  },
  {
   "cell_type": "code",
   "execution_count": 19,
   "metadata": {},
   "outputs": [
    {
     "name": "stdout",
     "output_type": "stream",
     "text": [
      " Thu Oct 21 14:55:34 2021 : %c \n",
      " 10/21/21 : %x \n",
      " +0530 : %z \n",
      " 2021 : %Y \n",
      " 21 : %Y \n",
      " 14:55:34 : %X \n",
      " Thursday : %A \n",
      " Thu : %a \n",
      " 14 : %H \n",
      "'2021 10 21 14 55 34 +0530 - India Standard Time'\n"
     ]
    }
   ],
   "source": [
    "print(time.strftime(' %c : %%c ',time.gmtime()))\n",
    "print(time.strftime(' %x : %%x ',time.gmtime()))\n",
    "print(time.strftime(' %z : %%z ',time.gmtime()))\n",
    "print(time.strftime(' %Y : %%Y ',time.gmtime()))\n",
    "print(time.strftime(' %y : %%Y ',time.gmtime()))\n",
    "print(time.strftime(' %X : %%X ',time.gmtime()))\n",
    "print(time.strftime(' %A : %%A ',time.gmtime()))\n",
    "print(time.strftime(' %a : %%a ',time.gmtime()))\n",
    "print(time.strftime(' %H : %%H ',time.gmtime()))\n",
    "\n",
    "print(time.strftime(\"'%Y %m %d %H %M %S %z - %Z'\",time.gmtime()))"
   ]
  },
  {
   "cell_type": "markdown",
   "metadata": {},
   "source": [
    "## strptime"
   ]
  },
  {
   "cell_type": "code",
   "execution_count": 14,
   "metadata": {},
   "outputs": [
    {
     "name": "stdout",
     "output_type": "stream",
     "text": [
      "time.struct_time(tm_year=2019, tm_mon=3, tm_mday=1, tm_hour=0, tm_min=0, tm_sec=0, tm_wday=4, tm_yday=60, tm_isdst=-1)\n",
      "==============================================\n",
      "time.struct_time(tm_year=2019, tm_mon=3, tm_mday=1, tm_hour=23, tm_min=38, tm_sec=40, tm_wday=4, tm_yday=60, tm_isdst=-1)\n"
     ]
    }
   ],
   "source": [
    "\"\"\"\n",
    "To convert a time string to a struct_time, you use strptime(), which stands for string parse time:\n",
    "\"\"\"\n",
    "print(time.strptime('2019-03-01', '%Y-%m-%d'))\n",
    "print('==============================================')\n",
    "print(time.strptime(('Fri Mar 01 23:38:40 2019')))\n",
    "\n",
    "\"\"\"\n",
    " tm_isdst=-1  means that strptime() can’t determine by the timestamp whether it represents daylight savings time or not.\n",
    "\"\"\"\n",
    "None"
   ]
  },
  {
   "cell_type": "markdown",
   "metadata": {},
   "source": [
    "## Suspending Execution\n",
    "\n",
    "One really useful Python time function is sleep(), which suspends the thread’s execution for a specified amount of time.\n",
    "\n",
    "For example, you can suspend your program’s execution for 10 seconds like this"
   ]
  },
  {
   "cell_type": "code",
   "execution_count": 15,
   "metadata": {},
   "outputs": [
    {
     "name": "stdout",
     "output_type": "stream",
     "text": [
      "Thu Oct 21 20:11:36 2021\n",
      "Thu Oct 21 20:11:46 2021\n"
     ]
    }
   ],
   "source": [
    "from time import sleep,strftime\n",
    "print(strftime('%c'))\n",
    "time.sleep(10)\n",
    "print(strftime('%c'))\n",
    "\n"
   ]
  },
  {
   "cell_type": "markdown",
   "metadata": {},
   "source": [
    "### Measuring Performance"
   ]
  },
  {
   "cell_type": "code",
   "execution_count": 16,
   "metadata": {},
   "outputs": [
    {
     "name": "stdout",
     "output_type": "stream",
     "text": [
      "4.899999112240039e-06\n",
      "87178291200\n"
     ]
    }
   ],
   "source": [
    "from time import perf_counter\n",
    "start = time.perf_counter()\n",
    "\n",
    "def factorial(n):\n",
    "    if n <2:\n",
    "        return 1\n",
    "    else:\n",
    "        return n*factorial(n-1)\n",
    "\n",
    "def timefactorial(n):\n",
    "    start = time.perf_counter()\n",
    "    x = factorial(n)\n",
    "    end = time.perf_counter()\n",
    "    print(end - start)\n",
    "    return x\n",
    "\n",
    "\n",
    "print(timefactorial(14))"
   ]
  }
 ],
 "metadata": {
  "interpreter": {
   "hash": "dea6d25d6f8dc36c987e06b7c775d272c4cf7e72ceda22d65902e3211296ca71"
  },
  "kernelspec": {
   "display_name": "Python 3.10.0 64-bit",
   "name": "python3"
  },
  "language_info": {
   "codemirror_mode": {
    "name": "ipython",
    "version": 3
   },
   "file_extension": ".py",
   "mimetype": "text/x-python",
   "name": "python",
   "nbconvert_exporter": "python",
   "pygments_lexer": "ipython3",
   "version": "3.10.0"
  },
  "orig_nbformat": 2
 },
 "nbformat": 4,
 "nbformat_minor": 2
}

{
 "cells": [
  {
   "cell_type": "code",
   "execution_count": 15,
   "metadata": {},
   "outputs": [],
   "source": [
    "import time\n",
    "from datetime import datetime"
   ]
  },
  {
   "cell_type": "markdown",
   "metadata": {},
   "source": [
    "### Converting from flot time representation to struct time"
   ]
  },
  {
   "cell_type": "code",
   "execution_count": 16,
   "metadata": {},
   "outputs": [
    {
     "name": "stdout",
     "output_type": "stream",
     "text": [
      "local_time_float = 1636288889.5745213\n"
     ]
    },
    {
     "data": {
      "text/plain": [
       "time.struct_time(tm_year=2021, tm_mon=11, tm_mday=7, tm_hour=18, tm_min=11, tm_sec=29, tm_wday=6, tm_yday=311, tm_isdst=0)"
      ]
     },
     "execution_count": 16,
     "metadata": {},
     "output_type": "execute_result"
    }
   ],
   "source": [
    "local_time_float = time.time()\n",
    "print(f'{local_time_float = }')\n",
    "time.localtime(local_time_float)     # By default it takes local time in float as value"
   ]
  },
  {
   "cell_type": "code",
   "execution_count": 33,
   "metadata": {},
   "outputs": [
    {
     "name": "stdout",
     "output_type": "stream",
     "text": [
      "19800\n"
     ]
    }
   ],
   "source": [
    "local_struct = time.localtime()    #current local time in struct representation\n",
    "print(local_struct.tm_gmtoff)      # time difference form utc time and your timezone"
   ]
  },
  {
   "cell_type": "code",
   "execution_count": 34,
   "metadata": {},
   "outputs": [
    {
     "data": {
      "text/plain": [
       "'India Standard Time'"
      ]
     },
     "execution_count": 34,
     "metadata": {},
     "output_type": "execute_result"
    }
   ],
   "source": [
    "local_struct.tm_zone"
   ]
  },
  {
   "cell_type": "code",
   "execution_count": 42,
   "metadata": {},
   "outputs": [
    {
     "name": "stdout",
     "output_type": "stream",
     "text": [
      "time.struct_time(tm_year=2021, tm_mon=11, tm_mday=7, tm_hour=19, tm_min=24, tm_sec=3, tm_wday=6, tm_yday=311, tm_isdst=0)\n",
      "local_struct.tm_hour = 19\n",
      "local_struct.tm_wday = 6\n"
     ]
    }
   ],
   "source": [
    "print(local_struct)\n",
    "print(f'{local_struct.tm_hour = }')\n",
    "print(f'{local_struct.tm_wday = }')"
   ]
  },
  {
   "cell_type": "code",
   "execution_count": 18,
   "metadata": {},
   "outputs": [
    {
     "data": {
      "text/plain": [
       "time.struct_time(tm_year=2078, tm_mon=10, tm_mday=30, tm_hour=7, tm_min=38, tm_sec=53, tm_wday=6, tm_yday=303, tm_isdst=0)"
      ]
     },
     "execution_count": 18,
     "metadata": {},
     "output_type": "execute_result"
    }
   ],
   "source": [
    "time.gmtime(3434341133)"
   ]
  },
  {
   "cell_type": "code",
   "execution_count": 46,
   "metadata": {},
   "outputs": [
    {
     "data": {
      "text/plain": [
       "1636294275.0"
      ]
     },
     "execution_count": 46,
     "metadata": {},
     "output_type": "execute_result"
    }
   ],
   "source": [
    "local_struct = time.localtime()   #current local time\n",
    "\n",
    "time.mktime(local_struct)   # float time representation from struct time"
   ]
  },
  {
   "cell_type": "markdown",
   "metadata": {},
   "source": [
    "### Converting from flot time representation to datetime representation"
   ]
  },
  {
   "cell_type": "code",
   "execution_count": 22,
   "metadata": {},
   "outputs": [
    {
     "name": "stdout",
     "output_type": "stream",
     "text": [
      "1636288889.5745213\n",
      "2021-11-07 18:11:29.574521\n"
     ]
    }
   ],
   "source": [
    "print(local_time_float)\n",
    "print(datetime.fromtimestamp(local_time_float))   "
   ]
  },
  {
   "cell_type": "code",
   "execution_count": 23,
   "metadata": {},
   "outputs": [
    {
     "name": "stdout",
     "output_type": "stream",
     "text": [
      "2021-11-07 12:41:29.574521\n"
     ]
    }
   ],
   "source": [
    "print(datetime.utcfromtimestamp(local_time_float))   "
   ]
  },
  {
   "cell_type": "code",
   "execution_count": 25,
   "metadata": {},
   "outputs": [
    {
     "name": "stdout",
     "output_type": "stream",
     "text": [
      "2020-01-12 02:02:02\n"
     ]
    },
    {
     "data": {
      "text/plain": [
       "1578774722.0"
      ]
     },
     "execution_count": 25,
     "metadata": {},
     "output_type": "execute_result"
    }
   ],
   "source": [
    "# getting timestamp from current time\n",
    "\n",
    "dt = datetime(2020,1,12,2,2,2)\n",
    "print(dt)\n",
    "dt.timestamp()    # Epoch time"
   ]
  },
  {
   "cell_type": "code",
   "execution_count": 26,
   "metadata": {},
   "outputs": [
    {
     "data": {
      "text/plain": [
       "time.struct_time(tm_year=2020, tm_mon=1, tm_mday=12, tm_hour=2, tm_min=2, tm_sec=2, tm_wday=6, tm_yday=12, tm_isdst=-1)"
      ]
     },
     "execution_count": 26,
     "metadata": {},
     "output_type": "execute_result"
    }
   ],
   "source": [
    "# converting struct time from datetime representation\n",
    "\n",
    "dt = datetime(2020,1,12,2,2,2)\n",
    "dt.timetuple()"
   ]
  },
  {
   "cell_type": "code",
   "execution_count": 27,
   "metadata": {},
   "outputs": [
    {
     "data": {
      "text/plain": [
       "time.struct_time(tm_year=2020, tm_mon=1, tm_mday=12, tm_hour=2, tm_min=2, tm_sec=2, tm_wday=6, tm_yday=12, tm_isdst=0)"
      ]
     },
     "execution_count": 27,
     "metadata": {},
     "output_type": "execute_result"
    }
   ],
   "source": [
    "dt.utctimetuple()"
   ]
  },
  {
   "cell_type": "markdown",
   "metadata": {},
   "source": [
    "### Converting from flot time representation to datetime representation"
   ]
  },
  {
   "cell_type": "code",
   "execution_count": 45,
   "metadata": {},
   "outputs": [
    {
     "data": {
      "text/plain": [
       "'Sun Nov  7 19:40:45 2021'"
      ]
     },
     "execution_count": 45,
     "metadata": {},
     "output_type": "execute_result"
    }
   ],
   "source": [
    "float_time = time.time()\n",
    "time.ctime()"
   ]
  },
  {
   "cell_type": "code",
   "execution_count": 50,
   "metadata": {},
   "outputs": [
    {
     "name": "stdout",
     "output_type": "stream",
     "text": [
      "local_struct = time.struct_time(tm_year=2021, tm_mon=11, tm_mday=7, tm_hour=19, tm_min=47, tm_sec=54, tm_wday=6, tm_yday=311, tm_isdst=0)\n"
     ]
    },
    {
     "data": {
      "text/plain": [
       "'Sun Nov  7 19:47:54 2021'"
      ]
     },
     "execution_count": 50,
     "metadata": {},
     "output_type": "execute_result"
    }
   ],
   "source": [
    "# converting struct time into string time format\n",
    "\n",
    "local_struct = time.localtime(time.time())\n",
    "print(f'{local_struct = }')\n",
    "time.asctime(local_struct)     "
   ]
  }
 ],
 "metadata": {
  "interpreter": {
   "hash": "dea6d25d6f8dc36c987e06b7c775d272c4cf7e72ceda22d65902e3211296ca71"
  },
  "kernelspec": {
   "display_name": "Python 3.10.0 64-bit",
   "language": "python",
   "name": "python3"
  },
  "language_info": {
   "codemirror_mode": {
    "name": "ipython",
    "version": 3
   },
   "file_extension": ".py",
   "mimetype": "text/x-python",
   "name": "python",
   "nbconvert_exporter": "python",
   "pygments_lexer": "ipython3",
   "version": "3.10.0"
  },
  "orig_nbformat": 4
 },
 "nbformat": 4,
 "nbformat_minor": 2
}
